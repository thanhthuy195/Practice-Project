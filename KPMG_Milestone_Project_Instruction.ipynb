{
  "cells": [
    {
      "cell_type": "code",
      "execution_count": null,
      "metadata": {
        "id": "oSVt6UAKeU8Q"
      },
      "outputs": [],
      "source": [
        "#data wrangling\n",
        "import pandas as pd\n",
        "import numpy as np\n",
        "#datetime\n",
        "import datetime as dt\n"
      ]
    },
    {
      "cell_type": "code",
      "execution_count": null,
      "metadata": {
        "scrolled": true,
        "id": "uV-yOkVueU8Y",
        "outputId": "ab480f57-e69b-4d59-9d0a-2ab98e198560",
        "colab": {
          "base_uri": "https://localhost:8080/"
        }
      },
      "outputs": [
        {
          "output_type": "stream",
          "name": "stdout",
          "text": [
            "   transaction_id  product_id  customer_id transaction_date  online_order  \\\n",
            "0               1           2         2950       2017-02-25           0.0   \n",
            "1               2           3         3120       2017-05-21           1.0   \n",
            "2               3          37          402       2017-10-16           0.0   \n",
            "3               4          88         3135       2017-08-31           0.0   \n",
            "4               5          78          787       2017-10-01           1.0   \n",
            "\n",
            "  order_status           brand product_line product_class product_size  \\\n",
            "0     Approved           Solex     Standard        medium       medium   \n",
            "1     Approved   Trek Bicycles     Standard        medium        large   \n",
            "2     Approved      OHM Cycles     Standard           low       medium   \n",
            "3     Approved  Norco Bicycles     Standard        medium       medium   \n",
            "4     Approved  Giant Bicycles     Standard        medium        large   \n",
            "\n",
            "   list_price  standard_cost  product_first_sold_date  \n",
            "0       71.49          53.62                  41245.0  \n",
            "1     2091.47         388.92                  41701.0  \n",
            "2     1793.43         248.82                  36361.0  \n",
            "3     1198.46         381.10                  36145.0  \n",
            "4     1765.30         709.48                  42226.0  \n"
          ]
        }
      ],
      "source": [
        "# load sheet Transactions trong file KPMG và in ra 5 dòng đầu tiên\n",
        "import pandas as pd\n",
        "import datetime as dt\n",
        "ta = pd.read_excel('KPMG.xlsx', sheet_name = \"Transactions\")\n",
        "print(ta.head(5))"
      ]
    },
    {
      "cell_type": "code",
      "execution_count": null,
      "metadata": {
        "id": "n3UckmVWeU8b",
        "outputId": "b6ec39c3-8af3-4cc5-b7a2-6e3dc01e3c96",
        "colab": {
          "base_uri": "https://localhost:8080/"
        }
      },
      "outputs": [
        {
          "output_type": "stream",
          "name": "stdout",
          "text": [
            "       transaction_id  product_id  customer_id transaction_date  online_order  \\\n",
            "0                   1           2         2950       2017-02-25           0.0   \n",
            "1                   2           3         3120       2017-05-21           1.0   \n",
            "2                   3          37          402       2017-10-16           0.0   \n",
            "3                   4          88         3135       2017-08-31           0.0   \n",
            "4                   5          78          787       2017-10-01           1.0   \n",
            "...               ...         ...          ...              ...           ...   \n",
            "19995           19996          51         1018       2017-06-24           1.0   \n",
            "19996           19997          41          127       2017-11-09           1.0   \n",
            "19997           19998          87         2284       2017-04-14           1.0   \n",
            "19998           19999           6         2764       2017-07-03           0.0   \n",
            "19999           20000          11         1144       2017-09-22           1.0   \n",
            "\n",
            "      order_status           brand product_line product_class product_size  \\\n",
            "0         Approved           Solex     Standard        medium       medium   \n",
            "1         Approved   Trek Bicycles     Standard        medium        large   \n",
            "2         Approved      OHM Cycles     Standard           low       medium   \n",
            "3         Approved  Norco Bicycles     Standard        medium       medium   \n",
            "4         Approved  Giant Bicycles     Standard        medium        large   \n",
            "...            ...             ...          ...           ...          ...   \n",
            "19995     Approved      OHM Cycles     Standard          high       medium   \n",
            "19996     Approved           Solex         Road        medium       medium   \n",
            "19997     Approved      OHM Cycles     Standard        medium       medium   \n",
            "19998     Approved      OHM Cycles     Standard          high       medium   \n",
            "19999     Approved   Trek Bicycles     Standard        medium        small   \n",
            "\n",
            "       list_price  standard_cost  product_first_sold_date  \n",
            "0           71.49          53.62                  41245.0  \n",
            "1         2091.47         388.92                  41701.0  \n",
            "2         1793.43         248.82                  36361.0  \n",
            "3         1198.46         381.10                  36145.0  \n",
            "4         1765.30         709.48                  42226.0  \n",
            "...           ...            ...                      ...  \n",
            "19995     2005.66        1203.40                  37823.0  \n",
            "19996      416.98         312.74                  35560.0  \n",
            "19997     1636.90          44.71                  40410.0  \n",
            "19998      227.88         136.73                  38216.0  \n",
            "19999     1775.81        1580.47                  36334.0  \n",
            "\n",
            "[20000 rows x 13 columns]\n"
          ]
        }
      ],
      "source": [
        "# in ra info bảng\n",
        "print(ta)"
      ]
    },
    {
      "cell_type": "code",
      "execution_count": null,
      "metadata": {
        "scrolled": true,
        "id": "UhjNAWQ6eU8c",
        "colab": {
          "base_uri": "https://localhost:8080/"
        },
        "outputId": "cf9b5d78-993b-4277-bf42-f7905ea06b34"
      },
      "outputs": [
        {
          "output_type": "stream",
          "name": "stdout",
          "text": [
            "       transaction_id   product_id   customer_id  online_order    list_price  \\\n",
            "count    20000.000000  20000.00000  20000.000000  19640.000000  20000.000000   \n",
            "mean     10000.500000     45.36465   1738.246050      0.500458   1107.829449   \n",
            "std       5773.647028     30.75359   1011.951046      0.500013    582.825242   \n",
            "min          1.000000      0.00000      1.000000      0.000000     12.010000   \n",
            "25%       5000.750000     18.00000    857.750000      0.000000    575.270000   \n",
            "50%      10000.500000     44.00000   1736.000000      1.000000   1163.890000   \n",
            "75%      15000.250000     72.00000   2613.000000      1.000000   1635.300000   \n",
            "max      20000.000000    100.00000   5034.000000      1.000000   2091.470000   \n",
            "\n",
            "       standard_cost  product_first_sold_date  \n",
            "count   19803.000000             19803.000000  \n",
            "mean      556.046951             38199.776549  \n",
            "std       405.955660              2875.201110  \n",
            "min         7.210000             33259.000000  \n",
            "25%       215.140000             35667.000000  \n",
            "50%       507.580000             38216.000000  \n",
            "75%       795.100000             40672.000000  \n",
            "max      1759.850000             42710.000000  \n"
          ]
        }
      ],
      "source": [
        "# describe default\n",
        "print(ta.describe())"
      ]
    },
    {
      "cell_type": "code",
      "execution_count": null,
      "metadata": {
        "scrolled": true,
        "id": "KZTuF73YeU8d",
        "colab": {
          "base_uri": "https://localhost:8080/",
          "height": 247
        },
        "outputId": "528b2519-2b31-4be5-bd6b-f50cd6709f09"
      },
      "outputs": [
        {
          "output_type": "stream",
          "name": "stderr",
          "text": [
            "<ipython-input-54-edd163be3489>:2: DeprecationWarning: `np.object` is a deprecated alias for the builtin `object`. To silence this warning, use `object` by itself. Doing this will not modify any behavior and is safe. \n",
            "Deprecated in NumPy 1.20; for more details and guidance: https://numpy.org/devdocs/release/1.20.0-notes.html#deprecations\n",
            "  ta.describe(include=np.object)\n"
          ]
        },
        {
          "output_type": "execute_result",
          "data": {
            "text/plain": [
              "       order_status  brand product_line product_class product_size\n",
              "count         20000  19803        19803         19803        19803\n",
              "unique            2      6            4             3            3\n",
              "top        Approved  Solex     Standard        medium       medium\n",
              "freq          19821   4253        14176         13826        12990"
            ],
            "text/html": [
              "\n",
              "  <div id=\"df-0c3f6a83-e5eb-42f9-9202-d58efe8ec8ae\">\n",
              "    <div class=\"colab-df-container\">\n",
              "      <div>\n",
              "<style scoped>\n",
              "    .dataframe tbody tr th:only-of-type {\n",
              "        vertical-align: middle;\n",
              "    }\n",
              "\n",
              "    .dataframe tbody tr th {\n",
              "        vertical-align: top;\n",
              "    }\n",
              "\n",
              "    .dataframe thead th {\n",
              "        text-align: right;\n",
              "    }\n",
              "</style>\n",
              "<table border=\"1\" class=\"dataframe\">\n",
              "  <thead>\n",
              "    <tr style=\"text-align: right;\">\n",
              "      <th></th>\n",
              "      <th>order_status</th>\n",
              "      <th>brand</th>\n",
              "      <th>product_line</th>\n",
              "      <th>product_class</th>\n",
              "      <th>product_size</th>\n",
              "    </tr>\n",
              "  </thead>\n",
              "  <tbody>\n",
              "    <tr>\n",
              "      <th>count</th>\n",
              "      <td>20000</td>\n",
              "      <td>19803</td>\n",
              "      <td>19803</td>\n",
              "      <td>19803</td>\n",
              "      <td>19803</td>\n",
              "    </tr>\n",
              "    <tr>\n",
              "      <th>unique</th>\n",
              "      <td>2</td>\n",
              "      <td>6</td>\n",
              "      <td>4</td>\n",
              "      <td>3</td>\n",
              "      <td>3</td>\n",
              "    </tr>\n",
              "    <tr>\n",
              "      <th>top</th>\n",
              "      <td>Approved</td>\n",
              "      <td>Solex</td>\n",
              "      <td>Standard</td>\n",
              "      <td>medium</td>\n",
              "      <td>medium</td>\n",
              "    </tr>\n",
              "    <tr>\n",
              "      <th>freq</th>\n",
              "      <td>19821</td>\n",
              "      <td>4253</td>\n",
              "      <td>14176</td>\n",
              "      <td>13826</td>\n",
              "      <td>12990</td>\n",
              "    </tr>\n",
              "  </tbody>\n",
              "</table>\n",
              "</div>\n",
              "      <button class=\"colab-df-convert\" onclick=\"convertToInteractive('df-0c3f6a83-e5eb-42f9-9202-d58efe8ec8ae')\"\n",
              "              title=\"Convert this dataframe to an interactive table.\"\n",
              "              style=\"display:none;\">\n",
              "        \n",
              "  <svg xmlns=\"http://www.w3.org/2000/svg\" height=\"24px\"viewBox=\"0 0 24 24\"\n",
              "       width=\"24px\">\n",
              "    <path d=\"M0 0h24v24H0V0z\" fill=\"none\"/>\n",
              "    <path d=\"M18.56 5.44l.94 2.06.94-2.06 2.06-.94-2.06-.94-.94-2.06-.94 2.06-2.06.94zm-11 1L8.5 8.5l.94-2.06 2.06-.94-2.06-.94L8.5 2.5l-.94 2.06-2.06.94zm10 10l.94 2.06.94-2.06 2.06-.94-2.06-.94-.94-2.06-.94 2.06-2.06.94z\"/><path d=\"M17.41 7.96l-1.37-1.37c-.4-.4-.92-.59-1.43-.59-.52 0-1.04.2-1.43.59L10.3 9.45l-7.72 7.72c-.78.78-.78 2.05 0 2.83L4 21.41c.39.39.9.59 1.41.59.51 0 1.02-.2 1.41-.59l7.78-7.78 2.81-2.81c.8-.78.8-2.07 0-2.86zM5.41 20L4 18.59l7.72-7.72 1.47 1.35L5.41 20z\"/>\n",
              "  </svg>\n",
              "      </button>\n",
              "      \n",
              "  <style>\n",
              "    .colab-df-container {\n",
              "      display:flex;\n",
              "      flex-wrap:wrap;\n",
              "      gap: 12px;\n",
              "    }\n",
              "\n",
              "    .colab-df-convert {\n",
              "      background-color: #E8F0FE;\n",
              "      border: none;\n",
              "      border-radius: 50%;\n",
              "      cursor: pointer;\n",
              "      display: none;\n",
              "      fill: #1967D2;\n",
              "      height: 32px;\n",
              "      padding: 0 0 0 0;\n",
              "      width: 32px;\n",
              "    }\n",
              "\n",
              "    .colab-df-convert:hover {\n",
              "      background-color: #E2EBFA;\n",
              "      box-shadow: 0px 1px 2px rgba(60, 64, 67, 0.3), 0px 1px 3px 1px rgba(60, 64, 67, 0.15);\n",
              "      fill: #174EA6;\n",
              "    }\n",
              "\n",
              "    [theme=dark] .colab-df-convert {\n",
              "      background-color: #3B4455;\n",
              "      fill: #D2E3FC;\n",
              "    }\n",
              "\n",
              "    [theme=dark] .colab-df-convert:hover {\n",
              "      background-color: #434B5C;\n",
              "      box-shadow: 0px 1px 3px 1px rgba(0, 0, 0, 0.15);\n",
              "      filter: drop-shadow(0px 1px 2px rgba(0, 0, 0, 0.3));\n",
              "      fill: #FFFFFF;\n",
              "    }\n",
              "  </style>\n",
              "\n",
              "      <script>\n",
              "        const buttonEl =\n",
              "          document.querySelector('#df-0c3f6a83-e5eb-42f9-9202-d58efe8ec8ae button.colab-df-convert');\n",
              "        buttonEl.style.display =\n",
              "          google.colab.kernel.accessAllowed ? 'block' : 'none';\n",
              "\n",
              "        async function convertToInteractive(key) {\n",
              "          const element = document.querySelector('#df-0c3f6a83-e5eb-42f9-9202-d58efe8ec8ae');\n",
              "          const dataTable =\n",
              "            await google.colab.kernel.invokeFunction('convertToInteractive',\n",
              "                                                     [key], {});\n",
              "          if (!dataTable) return;\n",
              "\n",
              "          const docLinkHtml = 'Like what you see? Visit the ' +\n",
              "            '<a target=\"_blank\" href=https://colab.research.google.com/notebooks/data_table.ipynb>data table notebook</a>'\n",
              "            + ' to learn more about interactive tables.';\n",
              "          element.innerHTML = '';\n",
              "          dataTable['output_type'] = 'display_data';\n",
              "          await google.colab.output.renderOutput(dataTable, element);\n",
              "          const docLink = document.createElement('div');\n",
              "          docLink.innerHTML = docLinkHtml;\n",
              "          element.appendChild(docLink);\n",
              "        }\n",
              "      </script>\n",
              "    </div>\n",
              "  </div>\n",
              "  "
            ]
          },
          "metadata": {},
          "execution_count": 54
        }
      ],
      "source": [
        "# describe các biến object\n",
        "ta.describe(include=np.object)"
      ]
    },
    {
      "cell_type": "code",
      "execution_count": null,
      "metadata": {
        "scrolled": false,
        "id": "7Jn6WdkneU8e",
        "colab": {
          "base_uri": "https://localhost:8080/"
        },
        "outputId": "aec94d80-0f0e-44c0-904f-832c52786e25"
      },
      "outputs": [
        {
          "output_type": "stream",
          "name": "stdout",
          "text": [
            "        transaction_id   product_id   customer_id     transaction_date  \\\n",
            "count     20000.000000  20000.00000  20000.000000                20000   \n",
            "unique             NaN          NaN           NaN                  364   \n",
            "top                NaN          NaN           NaN  2017-02-14 00:00:00   \n",
            "freq               NaN          NaN           NaN                   82   \n",
            "first              NaN          NaN           NaN  2017-01-01 00:00:00   \n",
            "last               NaN          NaN           NaN  2017-12-30 00:00:00   \n",
            "mean      10000.500000     45.36465   1738.246050                  NaN   \n",
            "std        5773.647028     30.75359   1011.951046                  NaN   \n",
            "min           1.000000      0.00000      1.000000                  NaN   \n",
            "25%        5000.750000     18.00000    857.750000                  NaN   \n",
            "50%       10000.500000     44.00000   1736.000000                  NaN   \n",
            "75%       15000.250000     72.00000   2613.000000                  NaN   \n",
            "max       20000.000000    100.00000   5034.000000                  NaN   \n",
            "\n",
            "        online_order order_status  brand product_line product_class  \\\n",
            "count   19640.000000        20000  19803        19803         19803   \n",
            "unique           NaN            2      6            4             3   \n",
            "top              NaN     Approved  Solex     Standard        medium   \n",
            "freq             NaN        19821   4253        14176         13826   \n",
            "first            NaN          NaN    NaN          NaN           NaN   \n",
            "last             NaN          NaN    NaN          NaN           NaN   \n",
            "mean        0.500458          NaN    NaN          NaN           NaN   \n",
            "std         0.500013          NaN    NaN          NaN           NaN   \n",
            "min         0.000000          NaN    NaN          NaN           NaN   \n",
            "25%         0.000000          NaN    NaN          NaN           NaN   \n",
            "50%         1.000000          NaN    NaN          NaN           NaN   \n",
            "75%         1.000000          NaN    NaN          NaN           NaN   \n",
            "max         1.000000          NaN    NaN          NaN           NaN   \n",
            "\n",
            "       product_size    list_price  standard_cost  product_first_sold_date  \n",
            "count         19803  20000.000000   19803.000000             19803.000000  \n",
            "unique            3           NaN            NaN                      NaN  \n",
            "top          medium           NaN            NaN                      NaN  \n",
            "freq          12990           NaN            NaN                      NaN  \n",
            "first           NaN           NaN            NaN                      NaN  \n",
            "last            NaN           NaN            NaN                      NaN  \n",
            "mean            NaN   1107.829449     556.046951             38199.776549  \n",
            "std             NaN    582.825242     405.955660              2875.201110  \n",
            "min             NaN     12.010000       7.210000             33259.000000  \n",
            "25%             NaN    575.270000     215.140000             35667.000000  \n",
            "50%             NaN   1163.890000     507.580000             38216.000000  \n",
            "75%             NaN   1635.300000     795.100000             40672.000000  \n",
            "max             NaN   2091.470000    1759.850000             42710.000000  \n"
          ]
        },
        {
          "output_type": "stream",
          "name": "stderr",
          "text": [
            "<ipython-input-55-b7c0f07fcf4a>:2: FutureWarning: Treating datetime data as categorical rather than numeric in `.describe` is deprecated and will be removed in a future version of pandas. Specify `datetime_is_numeric=True` to silence this warning and adopt the future behavior now.\n",
            "  print(ta.describe(include='all'))\n"
          ]
        }
      ],
      "source": [
        "# describe all\n",
        "print(ta.describe(include='all'))\n"
      ]
    },
    {
      "cell_type": "code",
      "execution_count": null,
      "metadata": {
        "scrolled": false,
        "id": "hsJrnMiOeU8f",
        "outputId": "3df16807-3c7f-4fa5-9a0b-c0c8f77ff726",
        "colab": {
          "base_uri": "https://localhost:8080/"
        }
      },
      "outputs": [
        {
          "output_type": "stream",
          "name": "stdout",
          "text": [
            "transaction_id               0\n",
            "product_id                   0\n",
            "customer_id                  0\n",
            "transaction_date             0\n",
            "online_order               360\n",
            "order_status                 0\n",
            "brand                      197\n",
            "product_line               197\n",
            "product_class              197\n",
            "product_size               197\n",
            "list_price                   0\n",
            "standard_cost              197\n",
            "product_first_sold_date    197\n",
            "dtype: int64\n"
          ]
        }
      ],
      "source": [
        "# count số dòng bị null ở mỗi cột\n",
        "count_null = ta.isnull().sum(axis=0)\n",
        "print(count_null)"
      ]
    },
    {
      "cell_type": "markdown",
      "metadata": {
        "id": "80ZP2TgZeU8g"
      },
      "source": [
        "# 1. Data Correction"
      ]
    },
    {
      "cell_type": "markdown",
      "metadata": {
        "id": "45BG8SnWeU8k"
      },
      "source": [
        "## 1.1 Drop NA"
      ]
    },
    {
      "cell_type": "code",
      "execution_count": null,
      "metadata": {
        "scrolled": true,
        "id": "1VtkqZOieU8m",
        "outputId": "6cd230c0-3241-4482-d499-5e809de2b4c5",
        "colab": {
          "base_uri": "https://localhost:8080/"
        }
      },
      "outputs": [
        {
          "output_type": "stream",
          "name": "stdout",
          "text": [
            "       transaction_id  product_id  customer_id transaction_date  online_order  \\\n",
            "0                   1           2         2950       2017-02-25           0.0   \n",
            "1                   2           3         3120       2017-05-21           1.0   \n",
            "2                   3          37          402       2017-10-16           0.0   \n",
            "3                   4          88         3135       2017-08-31           0.0   \n",
            "4                   5          78          787       2017-10-01           1.0   \n",
            "...               ...         ...          ...              ...           ...   \n",
            "19995           19996          51         1018       2017-06-24           1.0   \n",
            "19996           19997          41          127       2017-11-09           1.0   \n",
            "19997           19998          87         2284       2017-04-14           1.0   \n",
            "19998           19999           6         2764       2017-07-03           0.0   \n",
            "19999           20000          11         1144       2017-09-22           1.0   \n",
            "\n",
            "      order_status           brand product_line product_class product_size  \\\n",
            "0         Approved           Solex     Standard        medium       medium   \n",
            "1         Approved   Trek Bicycles     Standard        medium        large   \n",
            "2         Approved      OHM Cycles     Standard           low       medium   \n",
            "3         Approved  Norco Bicycles     Standard        medium       medium   \n",
            "4         Approved  Giant Bicycles     Standard        medium        large   \n",
            "...            ...             ...          ...           ...          ...   \n",
            "19995     Approved      OHM Cycles     Standard          high       medium   \n",
            "19996     Approved           Solex         Road        medium       medium   \n",
            "19997     Approved      OHM Cycles     Standard        medium       medium   \n",
            "19998     Approved      OHM Cycles     Standard          high       medium   \n",
            "19999     Approved   Trek Bicycles     Standard        medium        small   \n",
            "\n",
            "       list_price  standard_cost  product_first_sold_date  \n",
            "0           71.49          53.62                  41245.0  \n",
            "1         2091.47         388.92                  41701.0  \n",
            "2         1793.43         248.82                  36361.0  \n",
            "3         1198.46         381.10                  36145.0  \n",
            "4         1765.30         709.48                  42226.0  \n",
            "...           ...            ...                      ...  \n",
            "19995     2005.66        1203.40                  37823.0  \n",
            "19996      416.98         312.74                  35560.0  \n",
            "19997     1636.90          44.71                  40410.0  \n",
            "19998      227.88         136.73                  38216.0  \n",
            "19999     1775.81        1580.47                  36334.0  \n",
            "\n",
            "[19445 rows x 13 columns]\n"
          ]
        }
      ],
      "source": [
        "# tạo bảng df_dropna_all bằng cách loại bỏ tất cả giá trị null trong bảng và in ra info\n",
        "ta_dropna_all = ta.dropna()\n",
        "print(ta_dropna_all)"
      ]
    },
    {
      "cell_type": "code",
      "execution_count": null,
      "metadata": {
        "scrolled": true,
        "id": "3QAKHzZVeU8n",
        "outputId": "11a7cddd-d0ab-41ff-8503-d8f0f42778e0",
        "colab": {
          "base_uri": "https://localhost:8080/"
        }
      },
      "outputs": [
        {
          "output_type": "stream",
          "name": "stdout",
          "text": [
            "       transaction_id  product_id  customer_id transaction_date  online_order  \\\n",
            "0                   1           2         2950       2017-02-25           0.0   \n",
            "1                   2           3         3120       2017-05-21           1.0   \n",
            "2                   3          37          402       2017-10-16           0.0   \n",
            "3                   4          88         3135       2017-08-31           0.0   \n",
            "4                   5          78          787       2017-10-01           1.0   \n",
            "...               ...         ...          ...              ...           ...   \n",
            "19995           19996          51         1018       2017-06-24           1.0   \n",
            "19996           19997          41          127       2017-11-09           1.0   \n",
            "19997           19998          87         2284       2017-04-14           1.0   \n",
            "19998           19999           6         2764       2017-07-03           0.0   \n",
            "19999           20000          11         1144       2017-09-22           1.0   \n",
            "\n",
            "      order_status           brand product_line product_class product_size  \\\n",
            "0         Approved           Solex     Standard        medium       medium   \n",
            "1         Approved   Trek Bicycles     Standard        medium        large   \n",
            "2         Approved      OHM Cycles     Standard           low       medium   \n",
            "3         Approved  Norco Bicycles     Standard        medium       medium   \n",
            "4         Approved  Giant Bicycles     Standard        medium        large   \n",
            "...            ...             ...          ...           ...          ...   \n",
            "19995     Approved      OHM Cycles     Standard          high       medium   \n",
            "19996     Approved           Solex         Road        medium       medium   \n",
            "19997     Approved      OHM Cycles     Standard        medium       medium   \n",
            "19998     Approved      OHM Cycles     Standard          high       medium   \n",
            "19999     Approved   Trek Bicycles     Standard        medium        small   \n",
            "\n",
            "       list_price  standard_cost  product_first_sold_date  \n",
            "0           71.49          53.62                  41245.0  \n",
            "1         2091.47         388.92                  41701.0  \n",
            "2         1793.43         248.82                  36361.0  \n",
            "3         1198.46         381.10                  36145.0  \n",
            "4         1765.30         709.48                  42226.0  \n",
            "...           ...            ...                      ...  \n",
            "19995     2005.66        1203.40                  37823.0  \n",
            "19996      416.98         312.74                  35560.0  \n",
            "19997     1636.90          44.71                  40410.0  \n",
            "19998      227.88         136.73                  38216.0  \n",
            "19999     1775.81        1580.47                  36334.0  \n",
            "\n",
            "[19640 rows x 13 columns]\n"
          ]
        }
      ],
      "source": [
        "# tạo bảng df_dropna_online_order bằng cách loại bỏ giá trị null trong cột online_order và in ra info\n",
        "ta_dropna_online_order = ta.dropna(subset= ['online_order'])\n",
        "print(ta_dropna_online_order)"
      ]
    },
    {
      "cell_type": "markdown",
      "metadata": {
        "id": "GVYTu8zjeU8o"
      },
      "source": [
        "## 1.2 Fill NA"
      ]
    },
    {
      "cell_type": "code",
      "execution_count": null,
      "metadata": {
        "id": "86Um3vDqeU8p",
        "outputId": "5eb5bb5e-9a11-4f71-8716-22d49ec3a576",
        "colab": {
          "base_uri": "https://localhost:8080/"
        }
      },
      "outputs": [
        {
          "output_type": "stream",
          "name": "stdout",
          "text": [
            "       transaction_id  product_id  customer_id transaction_date  online_order  \\\n",
            "0                   1           2         2950       2017-02-25           0.0   \n",
            "1                   2           3         3120       2017-05-21           1.0   \n",
            "2                   3          37          402       2017-10-16           0.0   \n",
            "3                   4          88         3135       2017-08-31           0.0   \n",
            "4                   5          78          787       2017-10-01           1.0   \n",
            "...               ...         ...          ...              ...           ...   \n",
            "19995           19996          51         1018       2017-06-24           1.0   \n",
            "19996           19997          41          127       2017-11-09           1.0   \n",
            "19997           19998          87         2284       2017-04-14           1.0   \n",
            "19998           19999           6         2764       2017-07-03           0.0   \n",
            "19999           20000          11         1144       2017-09-22           1.0   \n",
            "\n",
            "      order_status           brand product_line product_class product_size  \\\n",
            "0         Approved           Solex     Standard        medium       medium   \n",
            "1         Approved   Trek Bicycles     Standard        medium        large   \n",
            "2         Approved      OHM Cycles     Standard           low       medium   \n",
            "3         Approved  Norco Bicycles     Standard        medium       medium   \n",
            "4         Approved  Giant Bicycles     Standard        medium        large   \n",
            "...            ...             ...          ...           ...          ...   \n",
            "19995     Approved      OHM Cycles     Standard          high       medium   \n",
            "19996     Approved           Solex         Road        medium       medium   \n",
            "19997     Approved      OHM Cycles     Standard        medium       medium   \n",
            "19998     Approved      OHM Cycles     Standard          high       medium   \n",
            "19999     Approved   Trek Bicycles     Standard        medium        small   \n",
            "\n",
            "       list_price  standard_cost  product_first_sold_date  \n",
            "0           71.49          53.62                  41245.0  \n",
            "1         2091.47         388.92                  41701.0  \n",
            "2         1793.43         248.82                  36361.0  \n",
            "3         1198.46         381.10                  36145.0  \n",
            "4         1765.30         709.48                  42226.0  \n",
            "...           ...            ...                      ...  \n",
            "19995     2005.66        1203.40                  37823.0  \n",
            "19996      416.98         312.74                  35560.0  \n",
            "19997     1636.90          44.71                  40410.0  \n",
            "19998      227.88         136.73                  38216.0  \n",
            "19999     1775.81        1580.47                  36334.0  \n",
            "\n",
            "[20000 rows x 13 columns]\n"
          ]
        }
      ],
      "source": [
        "# fill tất cả NA bằng 0, lưu vào bảng df_fillna_0 và in ra info\n",
        "ta_fillna_0 = ta.fillna(0)\n",
        "print(ta_fillna_0)"
      ]
    },
    {
      "cell_type": "code",
      "execution_count": null,
      "metadata": {
        "id": "PX9NbUy9eU8q",
        "outputId": "affbcfba-48b7-4fed-ec3c-0e47fabf72fc",
        "colab": {
          "base_uri": "https://localhost:8080/"
        }
      },
      "outputs": [
        {
          "output_type": "stream",
          "name": "stdout",
          "text": [
            "       transaction_id  product_id  customer_id transaction_date  online_order  \\\n",
            "0                   1           2         2950       2017-02-25           0.0   \n",
            "1                   2           3         3120       2017-05-21           1.0   \n",
            "2                   3          37          402       2017-10-16           0.0   \n",
            "3                   4          88         3135       2017-08-31           0.0   \n",
            "4                   5          78          787       2017-10-01           1.0   \n",
            "...               ...         ...          ...              ...           ...   \n",
            "19995           19996          51         1018       2017-06-24           1.0   \n",
            "19996           19997          41          127       2017-11-09           1.0   \n",
            "19997           19998          87         2284       2017-04-14           1.0   \n",
            "19998           19999           6         2764       2017-07-03           0.0   \n",
            "19999           20000          11         1144       2017-09-22           1.0   \n",
            "\n",
            "      order_status           brand product_line product_class product_size  \\\n",
            "0         Approved           Solex     Standard        medium       medium   \n",
            "1         Approved   Trek Bicycles     Standard        medium        large   \n",
            "2         Approved      OHM Cycles     Standard           low       medium   \n",
            "3         Approved  Norco Bicycles     Standard        medium       medium   \n",
            "4         Approved  Giant Bicycles     Standard        medium        large   \n",
            "...            ...             ...          ...           ...          ...   \n",
            "19995     Approved      OHM Cycles     Standard          high       medium   \n",
            "19996     Approved           Solex         Road        medium       medium   \n",
            "19997     Approved      OHM Cycles     Standard        medium       medium   \n",
            "19998     Approved      OHM Cycles     Standard          high       medium   \n",
            "19999     Approved   Trek Bicycles     Standard        medium        small   \n",
            "\n",
            "       list_price  standard_cost  product_first_sold_date  \n",
            "0           71.49          53.62                  41245.0  \n",
            "1         2091.47         388.92                  41701.0  \n",
            "2         1793.43         248.82                  36361.0  \n",
            "3         1198.46         381.10                  36145.0  \n",
            "4         1765.30         709.48                  42226.0  \n",
            "...           ...            ...                      ...  \n",
            "19995     2005.66        1203.40                  37823.0  \n",
            "19996      416.98         312.74                  35560.0  \n",
            "19997     1636.90          44.71                  40410.0  \n",
            "19998      227.88         136.73                  38216.0  \n",
            "19999     1775.81        1580.47                  36334.0  \n",
            "\n",
            "[20000 rows x 13 columns]\n"
          ]
        }
      ],
      "source": [
        "# fill NA bằng ffill, lưu vào bảng df_fillna_ffill và in ra info\n",
        "ta_fillna_ffill = ta.ffill()\n",
        "print(ta_fillna_ffill)"
      ]
    },
    {
      "cell_type": "code",
      "execution_count": null,
      "metadata": {
        "scrolled": true,
        "id": "B0Dp3i_jeU8q",
        "outputId": "111d576c-213d-4a3d-b122-f22b0cfb2841",
        "colab": {
          "base_uri": "https://localhost:8080/"
        }
      },
      "outputs": [
        {
          "output_type": "stream",
          "name": "stdout",
          "text": [
            "       transaction_id  product_id  customer_id transaction_date  online_order  \\\n",
            "0                   1           2         2950       2017-02-25           0.0   \n",
            "1                   2           3         3120       2017-05-21           1.0   \n",
            "2                   3          37          402       2017-10-16           0.0   \n",
            "3                   4          88         3135       2017-08-31           0.0   \n",
            "4                   5          78          787       2017-10-01           1.0   \n",
            "...               ...         ...          ...              ...           ...   \n",
            "19995           19996          51         1018       2017-06-24           1.0   \n",
            "19996           19997          41          127       2017-11-09           1.0   \n",
            "19997           19998          87         2284       2017-04-14           1.0   \n",
            "19998           19999           6         2764       2017-07-03           0.0   \n",
            "19999           20000          11         1144       2017-09-22           1.0   \n",
            "\n",
            "      order_status           brand product_line product_class product_size  \\\n",
            "0         Approved           Solex     Standard        medium       medium   \n",
            "1         Approved   Trek Bicycles     Standard        medium        large   \n",
            "2         Approved      OHM Cycles     Standard           low       medium   \n",
            "3         Approved  Norco Bicycles     Standard        medium       medium   \n",
            "4         Approved  Giant Bicycles     Standard        medium        large   \n",
            "...            ...             ...          ...           ...          ...   \n",
            "19995     Approved      OHM Cycles     Standard          high       medium   \n",
            "19996     Approved           Solex         Road        medium       medium   \n",
            "19997     Approved      OHM Cycles     Standard        medium       medium   \n",
            "19998     Approved      OHM Cycles     Standard          high       medium   \n",
            "19999     Approved   Trek Bicycles     Standard        medium        small   \n",
            "\n",
            "       list_price  standard_cost  product_first_sold_date  \n",
            "0           71.49          53.62                  41245.0  \n",
            "1         2091.47         388.92                  41701.0  \n",
            "2         1793.43         248.82                  36361.0  \n",
            "3         1198.46         381.10                  36145.0  \n",
            "4         1765.30         709.48                  42226.0  \n",
            "...           ...            ...                      ...  \n",
            "19995     2005.66        1203.40                  37823.0  \n",
            "19996      416.98         312.74                  35560.0  \n",
            "19997     1636.90          44.71                  40410.0  \n",
            "19998      227.88         136.73                  38216.0  \n",
            "19999     1775.81        1580.47                  36334.0  \n",
            "\n",
            "[20000 rows x 13 columns]\n"
          ]
        }
      ],
      "source": [
        "# fill NA bằng bfill, lưu vào bảng df_fillna_bfill và in ra info\n",
        "ta_fillna_bfill = ta.bfill()\n",
        "print(ta_fillna_bfill)"
      ]
    },
    {
      "cell_type": "markdown",
      "metadata": {
        "id": "0z_h8ElheU8r"
      },
      "source": [
        "## 1.3. Assess Categorical Data"
      ]
    },
    {
      "cell_type": "code",
      "execution_count": null,
      "metadata": {
        "scrolled": false,
        "id": "1ts5yTKfeU8s",
        "outputId": "eb4113e4-e61b-49dc-c9a8-a89d4ff8ef2a",
        "colab": {
          "base_uri": "https://localhost:8080/"
        }
      },
      "outputs": [
        {
          "output_type": "stream",
          "name": "stdout",
          "text": [
            "   customer_id      first_name  last_name  gender  \\\n",
            "0            1         Laraine  Medendorp       F   \n",
            "1            2             Eli    Bockman    Male   \n",
            "2            3           Arlin     Dearle    Male   \n",
            "3            4          Talbot        NaN    Male   \n",
            "4            5  Sheila-kathryn     Calton  Female   \n",
            "\n",
            "   past_3_years_bike_related_purchases        DOB               job_title  \\\n",
            "0                                   93 1953-10-12     Executive Secretary   \n",
            "1                                   81 1980-12-16  Administrative Officer   \n",
            "2                                   61 1954-01-20      Recruiting Manager   \n",
            "3                                   33 1961-10-03                     NaN   \n",
            "4                                   56 1977-05-13           Senior Editor   \n",
            "\n",
            "  job_industry_category     wealth_segment deceased_indicator  \\\n",
            "0                Health      Mass Customer                  N   \n",
            "1    Financial Services      Mass Customer                  N   \n",
            "2              Property      Mass Customer                  N   \n",
            "3                    IT      Mass Customer                  N   \n",
            "4                   NaN  Affluent Customer                  N   \n",
            "\n",
            "                                             default owns_car  tenure  \n",
            "0                                                 \"'      Yes    11.0  \n",
            "1                       <script>alert('hi')</script>      Yes    16.0  \n",
            "2                                2018-02-01 00:00:00      Yes    15.0  \n",
            "3  () { _; } >_[$($())] { touch /tmp/blns.shellsh...       No     7.0  \n",
            "4                                                NIL      Yes     8.0  \n"
          ]
        },
        {
          "output_type": "stream",
          "name": "stderr",
          "text": [
            "<ipython-input-62-6b8f811f0cb1>:4: FutureWarning: Inferring datetime64[ns] from data containing strings is deprecated and will be removed in a future version. To retain the old behavior explicitly pass Series(data, dtype={value.dtype})\n",
            "  demographic = pd.read_excel('KPMG.xlsx', sheet_name=\"CustomerDemographic\")\n"
          ]
        }
      ],
      "source": [
        "# load sheet Demographic và hiển thị 5 dòng đầu tiên\n",
        "import pandas as pd\n",
        "import datetime as dt\n",
        "demographic = pd.read_excel('KPMG.xlsx', sheet_name=\"CustomerDemographic\")\n",
        "print(demographic.head(5))"
      ]
    },
    {
      "cell_type": "code",
      "execution_count": null,
      "metadata": {
        "id": "srILCvNfeU8s",
        "colab": {
          "base_uri": "https://localhost:8080/"
        },
        "outputId": "fe9b5613-69b5-4dac-b1d4-1cf97bd9abaa"
      },
      "outputs": [
        {
          "output_type": "stream",
          "name": "stdout",
          "text": [
            "      customer_id      first_name  last_name  gender  \\\n",
            "0               1         Laraine  Medendorp       F   \n",
            "1               2             Eli    Bockman    Male   \n",
            "2               3           Arlin     Dearle    Male   \n",
            "3               4          Talbot        NaN    Male   \n",
            "4               5  Sheila-kathryn     Calton  Female   \n",
            "...           ...             ...        ...     ...   \n",
            "3995         3996         Rosalia   Halgarth  Female   \n",
            "3996         3997          Blanch     Nisuis  Female   \n",
            "3997         3998          Sarene    Woolley       U   \n",
            "3998         3999       Patrizius        NaN    Male   \n",
            "3999         4000           Kippy    Oldland    Male   \n",
            "\n",
            "      past_3_years_bike_related_purchases        DOB               job_title  \\\n",
            "0                                      93 1953-10-12     Executive Secretary   \n",
            "1                                      81 1980-12-16  Administrative Officer   \n",
            "2                                      61 1954-01-20      Recruiting Manager   \n",
            "3                                      33 1961-10-03                     NaN   \n",
            "4                                      56 1977-05-13           Senior Editor   \n",
            "...                                   ...        ...                     ...   \n",
            "3995                                    8 1975-08-09   VP Product Management   \n",
            "3996                                   87 2001-07-13         Statistician II   \n",
            "3997                                   60        NaT       Assistant Manager   \n",
            "3998                                   11 1973-10-24                     NaN   \n",
            "3999                                   76 1991-11-05    Software Engineer IV   \n",
            "\n",
            "     job_industry_category     wealth_segment deceased_indicator  \\\n",
            "0                   Health      Mass Customer                  N   \n",
            "1       Financial Services      Mass Customer                  N   \n",
            "2                 Property      Mass Customer                  N   \n",
            "3                       IT      Mass Customer                  N   \n",
            "4                      NaN  Affluent Customer                  N   \n",
            "...                    ...                ...                ...   \n",
            "3995                Health      Mass Customer                  N   \n",
            "3996         Manufacturing     High Net Worth                  N   \n",
            "3997                    IT     High Net Worth                  N   \n",
            "3998         Manufacturing  Affluent Customer                  N   \n",
            "3999                   NaN  Affluent Customer                  N   \n",
            "\n",
            "                                                default owns_car  tenure  \n",
            "0                                                    \"'      Yes    11.0  \n",
            "1                          <script>alert('hi')</script>      Yes    16.0  \n",
            "2                                   2018-02-01 00:00:00      Yes    15.0  \n",
            "3     () { _; } >_[$($())] { touch /tmp/blns.shellsh...       No     7.0  \n",
            "4                                                   NIL      Yes     8.0  \n",
            "...                                                 ...      ...     ...  \n",
            "3995                                               -100       No    19.0  \n",
            "3996                                           â¦testâ§      Yes     1.0  \n",
            "3997                                                NaN       No     NaN  \n",
            "3998                             Â¡â¢Â£Â¢âÂ§Â¶â¢ÂªÂºââ       Yes    10.0  \n",
            "3999                                                0/0       No    11.0  \n",
            "\n",
            "[4000 rows x 13 columns]\n"
          ]
        }
      ],
      "source": [
        "# in ra info bảng\n",
        "print(demographic)"
      ]
    },
    {
      "cell_type": "code",
      "execution_count": null,
      "metadata": {
        "scrolled": false,
        "id": "ogrLUrIWeU8t",
        "colab": {
          "base_uri": "https://localhost:8080/"
        },
        "outputId": "311d23d3-dcac-4b8a-ca51-02a666ea8411"
      },
      "outputs": [
        {
          "output_type": "stream",
          "name": "stdout",
          "text": [
            "       first_name last_name  gender                             job_title  \\\n",
            "count        4000      3875    4000                                  3494   \n",
            "unique       3139      3725       6                                   195   \n",
            "top           Max  Pristnor  Female  Business Systems Development Analyst   \n",
            "freq            5         3    2037                                    45   \n",
            "\n",
            "       job_industry_category wealth_segment deceased_indicator  default  \\\n",
            "count                   3344           4000               4000     3698   \n",
            "unique                     9              3                  2       90   \n",
            "top            Manufacturing  Mass Customer                  N      100   \n",
            "freq                     799           2000               3998      113   \n",
            "\n",
            "       owns_car  \n",
            "count      4000  \n",
            "unique        2  \n",
            "top         Yes  \n",
            "freq       2024  \n"
          ]
        },
        {
          "output_type": "stream",
          "name": "stderr",
          "text": [
            "<ipython-input-64-a93d1b53ec2b>:2: DeprecationWarning: `np.object` is a deprecated alias for the builtin `object`. To silence this warning, use `object` by itself. Doing this will not modify any behavior and is safe. \n",
            "Deprecated in NumPy 1.20; for more details and guidance: https://numpy.org/devdocs/release/1.20.0-notes.html#deprecations\n",
            "  print(demographic.describe(include=np.object))\n"
          ]
        }
      ],
      "source": [
        "# describe các giá trị object\n",
        "print(demographic.describe(include=np.object))"
      ]
    },
    {
      "cell_type": "code",
      "execution_count": null,
      "metadata": {
        "id": "OoOzz9DSeU8t",
        "outputId": "e7d3ddc0-db31-4e30-9c84-21f2312e97d0",
        "colab": {
          "base_uri": "https://localhost:8080/"
        }
      },
      "outputs": [
        {
          "output_type": "stream",
          "name": "stdout",
          "text": [
            "   customer_id first_name  last_name  gender  \\\n",
            "0            1    Laraine  Medendorp       F   \n",
            "1            2        Eli    Bockman    Male   \n",
            "2            3      Arlin     Dearle    Male   \n",
            "8            9       Mala       Lind  Female   \n",
            "9           10   Fiorenze    Birdall  Female   \n",
            "\n",
            "   past_3_years_bike_related_purchases        DOB  \\\n",
            "0                                   93 1953-10-12   \n",
            "1                                   81 1980-12-16   \n",
            "2                                   61 1954-01-20   \n",
            "8                                   97 1973-03-10   \n",
            "9                                   49 1988-10-11   \n",
            "\n",
            "                              job_title job_industry_category  \\\n",
            "0                   Executive Secretary                Health   \n",
            "1                Administrative Officer    Financial Services   \n",
            "2                    Recruiting Manager              Property   \n",
            "8  Business Systems Development Analyst           Argiculture   \n",
            "9               Senior Quality Engineer    Financial Services   \n",
            "\n",
            "      wealth_segment deceased_indicator                       default  \\\n",
            "0      Mass Customer                  N                            \"'   \n",
            "1      Mass Customer                  N  <script>alert('hi')</script>   \n",
            "2      Mass Customer                  N           2018-02-01 00:00:00   \n",
            "8  Affluent Customer                  N                           0/0   \n",
            "9      Mass Customer                  N                          ð©ð½   \n",
            "\n",
            "  owns_car  tenure  \n",
            "0      Yes    11.0  \n",
            "1      Yes    16.0  \n",
            "2      Yes    15.0  \n",
            "8      Yes     8.0  \n",
            "9      Yes    20.0  \n"
          ]
        }
      ],
      "source": [
        "# Remove all NA rows, then use output for the following steps\n",
        "demo_dropna_all= demographic.dropna()\n",
        "print(demo_dropna_all.head(5))"
      ]
    },
    {
      "cell_type": "code",
      "execution_count": null,
      "metadata": {
        "id": "fDTuEWzFeU8t",
        "outputId": "6c2afcfc-b3da-4589-d18f-9d117946fa5d",
        "colab": {
          "base_uri": "https://localhost:8080/"
        }
      },
      "outputs": [
        {
          "output_type": "stream",
          "name": "stdout",
          "text": [
            "['F' 'Male' 'Female' 'Femal']\n"
          ]
        }
      ],
      "source": [
        "# In ra các giá trị unique của cột gender\n",
        "print(demo_dropna_all['gender'].unique())"
      ]
    },
    {
      "cell_type": "code",
      "execution_count": null,
      "metadata": {
        "id": "h-U-iyd9eU8u",
        "outputId": "c531236e-67f9-4f7d-aaaa-b60fcd8fb077",
        "colab": {
          "base_uri": "https://localhost:8080/"
        }
      },
      "outputs": [
        {
          "output_type": "stream",
          "name": "stdout",
          "text": [
            "   customer_id first_name  last_name  gender  \\\n",
            "0            1    Laraine  Medendorp  Female   \n",
            "1            2        Eli    Bockman    Male   \n",
            "2            3      Arlin     Dearle    Male   \n",
            "8            9       Mala       Lind  Female   \n",
            "9           10   Fiorenze    Birdall  Female   \n",
            "\n",
            "   past_3_years_bike_related_purchases        DOB  \\\n",
            "0                                   93 1953-10-12   \n",
            "1                                   81 1980-12-16   \n",
            "2                                   61 1954-01-20   \n",
            "8                                   97 1973-03-10   \n",
            "9                                   49 1988-10-11   \n",
            "\n",
            "                              job_title job_industry_category  \\\n",
            "0                   Executive Secretary                Health   \n",
            "1                Administrative Officer    Financial Services   \n",
            "2                    Recruiting Manager              Property   \n",
            "8  Business Systems Development Analyst           Argiculture   \n",
            "9               Senior Quality Engineer    Financial Services   \n",
            "\n",
            "      wealth_segment deceased_indicator                       default  \\\n",
            "0      Mass Customer                  N                            \"'   \n",
            "1      Mass Customer                  N  <script>alert('hi')</script>   \n",
            "2      Mass Customer                  N           2018-02-01 00:00:00   \n",
            "8  Affluent Customer                  N                           0/0   \n",
            "9      Mass Customer                  N                          ð©ð½   \n",
            "\n",
            "  owns_car  tenure  \n",
            "0      Yes    11.0  \n",
            "1      Yes    16.0  \n",
            "2      Yes    15.0  \n",
            "8      Yes     8.0  \n",
            "9      Yes    20.0  \n"
          ]
        },
        {
          "output_type": "stream",
          "name": "stderr",
          "text": [
            "<ipython-input-67-5bab403c6be2>:2: SettingWithCopyWarning: \n",
            "A value is trying to be set on a copy of a slice from a DataFrame.\n",
            "Try using .loc[row_indexer,col_indexer] = value instead\n",
            "\n",
            "See the caveats in the documentation: https://pandas.pydata.org/pandas-docs/stable/user_guide/indexing.html#returning-a-view-versus-a-copy\n",
            "  demo_dropna_all['gender'] = demo_dropna_all['gender'].replace([\"F\", \"U\", \"M\",\"Femal\"], [\"Female\", \"Unisex\", \"Male\",\"Female\"])\n"
          ]
        }
      ],
      "source": [
        "# Quy chuẩn cột gender về các nhóm Male, Female, Unisex và in ra giá trị unique mới\n",
        "demo_dropna_all['gender'] = demo_dropna_all['gender'].replace([\"F\", \"U\", \"M\",\"Femal\"], [\"Female\", \"Unisex\", \"Male\",\"Female\"])\n",
        "print(demo_dropna_all.head())"
      ]
    },
    {
      "cell_type": "code",
      "execution_count": null,
      "metadata": {
        "id": "Se7G1SSKeU8v",
        "outputId": "b5b96427-cfb7-4f61-c8bd-8ffe31c342ef",
        "colab": {
          "base_uri": "https://localhost:8080/"
        }
      },
      "outputs": [
        {
          "output_type": "stream",
          "name": "stdout",
          "text": [
            "20.0\n",
            "91.0\n"
          ]
        },
        {
          "output_type": "stream",
          "name": "stderr",
          "text": [
            "<ipython-input-68-8291369fd2ac>:4: SettingWithCopyWarning: \n",
            "A value is trying to be set on a copy of a slice from a DataFrame.\n",
            "Try using .loc[row_indexer,col_indexer] = value instead\n",
            "\n",
            "See the caveats in the documentation: https://pandas.pydata.org/pandas-docs/stable/user_guide/indexing.html#returning-a-view-versus-a-copy\n",
            "  demo_dropna_all['age'] = (dt.datetime.today()\\\n"
          ]
        }
      ],
      "source": [
        "# Tính tuổi của mỗi khách hàng, lưu vào cột \"age\" và in ra min age, max age\n",
        "import pandas as pd\n",
        "import datetime as dt\n",
        "demo_dropna_all['age'] = (dt.datetime.today()\\\n",
        "            -pd.to_datetime(demo_dropna_all['DOB'])).astype('timedelta64[Y]')\n",
        "print(demo_dropna_all['age'].min())\n",
        "print(demo_dropna_all['age'].max())"
      ]
    },
    {
      "cell_type": "code",
      "execution_count": null,
      "metadata": {
        "id": "GGqdUrb8eU8w",
        "colab": {
          "base_uri": "https://localhost:8080/"
        },
        "outputId": "9db2eed4-620b-444e-f0e3-004ff86ca18d"
      },
      "outputs": [
        {
          "output_type": "stream",
          "name": "stdout",
          "text": [
            "   customer_id first_name  last_name  gender  \\\n",
            "0            1    Laraine  Medendorp  Female   \n",
            "1            2        Eli    Bockman    Male   \n",
            "2            3      Arlin     Dearle    Male   \n",
            "8            9       Mala       Lind  Female   \n",
            "9           10   Fiorenze    Birdall  Female   \n",
            "\n",
            "   past_3_years_bike_related_purchases        DOB  \\\n",
            "0                                   93 1953-10-12   \n",
            "1                                   81 1980-12-16   \n",
            "2                                   61 1954-01-20   \n",
            "8                                   97 1973-03-10   \n",
            "9                                   49 1988-10-11   \n",
            "\n",
            "                              job_title job_industry_category  \\\n",
            "0                   Executive Secretary                Health   \n",
            "1                Administrative Officer    Financial Services   \n",
            "2                    Recruiting Manager              Property   \n",
            "8  Business Systems Development Analyst           Argiculture   \n",
            "9               Senior Quality Engineer    Financial Services   \n",
            "\n",
            "      wealth_segment deceased_indicator                       default  \\\n",
            "0      Mass Customer                  N                            \"'   \n",
            "1      Mass Customer                  N  <script>alert('hi')</script>   \n",
            "2      Mass Customer                  N           2018-02-01 00:00:00   \n",
            "8  Affluent Customer                  N                           0/0   \n",
            "9      Mass Customer                  N                          ð©ð½   \n",
            "\n",
            "  owns_car  tenure   age age_group  \n",
            "0      Yes    11.0  69.0     Older  \n",
            "1      Yes    16.0  42.0    Middle  \n",
            "2      Yes    15.0  68.0     Older  \n",
            "8      Yes     8.0  49.0    Middle  \n",
            "9      Yes    20.0  34.0     Young  \n"
          ]
        },
        {
          "output_type": "stream",
          "name": "stderr",
          "text": [
            "<ipython-input-23-9fcabe9ec745>:11: SettingWithCopyWarning: \n",
            "A value is trying to be set on a copy of a slice from a DataFrame.\n",
            "Try using .loc[row_indexer,col_indexer] = value instead\n",
            "\n",
            "See the caveats in the documentation: https://pandas.pydata.org/pandas-docs/stable/user_guide/indexing.html#returning-a-view-versus-a-copy\n",
            "  demo_dropna_all['age_group'] = demo_dropna_all.apply(group, axis=1)\n"
          ]
        }
      ],
      "source": [
        "# phân nhóm khách hàng dưới 35 tuổi là nhóm \"Young\", Từ 35 - 55 là \"Middle\", trên 55 là \"Older\"\n",
        "# lưu vào cột \"age_group\" bằng cách sử dụng hàm cut\n",
        "def group(demo_dropna_all):\n",
        "  if demo_dropna_all['age'] < 35:\n",
        "    val = 'Young'\n",
        "  elif demo_dropna_all['age'] > 55:\n",
        "    val = 'Older'\n",
        "  else: \n",
        "    val = 'Middle'\n",
        "  return val\n",
        "demo_dropna_all['age_group'] = demo_dropna_all.apply(group, axis=1)\n",
        "print(demo_dropna_all.head())"
      ]
    },
    {
      "cell_type": "code",
      "source": [
        "demo_dropna_all['age_group']=pd.cut(demo_dropna_all['age'],bins=[0,35,55,100],labels=['Young', 'Middle','Older'])\n",
        "print(demo_dropna_all)"
      ],
      "metadata": {
        "colab": {
          "base_uri": "https://localhost:8080/"
        },
        "id": "M-rjVw2UjGvg",
        "outputId": "6b9548eb-83d0-4153-d786-4c4db6187289"
      },
      "execution_count": null,
      "outputs": [
        {
          "output_type": "stream",
          "name": "stdout",
          "text": [
            "      customer_id first_name  last_name  gender  \\\n",
            "0               1    Laraine  Medendorp  Female   \n",
            "1               2        Eli    Bockman    Male   \n",
            "2               3      Arlin     Dearle    Male   \n",
            "8               9       Mala       Lind  Female   \n",
            "9              10   Fiorenze    Birdall  Female   \n",
            "...           ...        ...        ...     ...   \n",
            "3992         3993       Andi    Dumelow  Female   \n",
            "3993         3994    Stephie      Byars  Female   \n",
            "3994         3995      Rusty     Iapico    Male   \n",
            "3995         3996    Rosalia   Halgarth  Female   \n",
            "3996         3997     Blanch     Nisuis  Female   \n",
            "\n",
            "      past_3_years_bike_related_purchases        DOB  \\\n",
            "0                                      93 1953-10-12   \n",
            "1                                      81 1980-12-16   \n",
            "2                                      61 1954-01-20   \n",
            "8                                      97 1973-03-10   \n",
            "9                                      49 1988-10-11   \n",
            "...                                   ...        ...   \n",
            "3992                                    6 1974-12-05   \n",
            "3993                                    5 1989-04-07   \n",
            "3994                                   93 1975-12-12   \n",
            "3995                                    8 1975-08-09   \n",
            "3996                                   87 2001-07-13   \n",
            "\n",
            "                                 job_title job_industry_category  \\\n",
            "0                      Executive Secretary                Health   \n",
            "1                   Administrative Officer    Financial Services   \n",
            "2                       Recruiting Manager              Property   \n",
            "8     Business Systems Development Analyst           Argiculture   \n",
            "9                  Senior Quality Engineer    Financial Services   \n",
            "...                                    ...                   ...   \n",
            "3992                             Librarian         Entertainment   \n",
            "3993          Structural Analysis Engineer         Manufacturing   \n",
            "3994                       Staff Scientist         Manufacturing   \n",
            "3995                 VP Product Management                Health   \n",
            "3996                       Statistician II         Manufacturing   \n",
            "\n",
            "         wealth_segment deceased_indicator                       default  \\\n",
            "0         Mass Customer                  N                            \"'   \n",
            "1         Mass Customer                  N  <script>alert('hi')</script>   \n",
            "2         Mass Customer                  N           2018-02-01 00:00:00   \n",
            "8     Affluent Customer                  N                           0/0   \n",
            "9         Mass Customer                  N                          ð©ð½   \n",
            "...                 ...                ...                           ...   \n",
            "3992      Mass Customer                  N                            á    \n",
            "3993  Affluent Customer                  N                          -100   \n",
            "3994      Mass Customer                  N                            á    \n",
            "3995      Mass Customer                  N                          -100   \n",
            "3996     High Net Worth                  N                      â¦testâ§   \n",
            "\n",
            "     owns_car  tenure   age age_group  \n",
            "0         Yes    11.0  69.0     Older  \n",
            "1         Yes    16.0  42.0    Middle  \n",
            "2         Yes    15.0  68.0     Older  \n",
            "8         Yes     8.0  49.0    Middle  \n",
            "9         Yes    20.0  34.0     Young  \n",
            "...       ...     ...   ...       ...  \n",
            "3992       No    10.0  48.0    Middle  \n",
            "3993       No    12.0  33.0     Young  \n",
            "3994      Yes    14.0  47.0    Middle  \n",
            "3995       No    19.0  47.0    Middle  \n",
            "3996      Yes     1.0  21.0     Young  \n",
            "\n",
            "[2630 rows x 15 columns]\n"
          ]
        },
        {
          "output_type": "stream",
          "name": "stderr",
          "text": [
            "<ipython-input-73-9464c96087e9>:1: SettingWithCopyWarning: \n",
            "A value is trying to be set on a copy of a slice from a DataFrame.\n",
            "Try using .loc[row_indexer,col_indexer] = value instead\n",
            "\n",
            "See the caveats in the documentation: https://pandas.pydata.org/pandas-docs/stable/user_guide/indexing.html#returning-a-view-versus-a-copy\n",
            "  demo_dropna_all['age_group']=pd.cut(demo_dropna_all['age'],bins=[0,35,55,100],labels=['Young', 'Middle','Older'])\n"
          ]
        }
      ]
    },
    {
      "cell_type": "markdown",
      "metadata": {
        "id": "DiFZVX80eU8w"
      },
      "source": [
        "# 2. Data Completeness"
      ]
    },
    {
      "cell_type": "code",
      "execution_count": null,
      "metadata": {
        "scrolled": true,
        "id": "eedLPdpWeU8w",
        "colab": {
          "base_uri": "https://localhost:8080/",
          "height": 609
        },
        "outputId": "79d047ce-421f-43fb-c526-7d6e71cc8641"
      },
      "outputs": [
        {
          "output_type": "execute_result",
          "data": {
            "text/plain": [
              "       transaction_id  product_id  customer_id transaction_date  online_order  \\\n",
              "4                   5          78          787       2017-10-01           1.0   \n",
              "7                   8          15         2459       2017-07-15           0.0   \n",
              "10                 11           5         1986       2017-01-17           0.0   \n",
              "16                 17          79         2426       2017-04-03           0.0   \n",
              "24                 25          89         2822       2017-06-11           0.0   \n",
              "...               ...         ...          ...              ...           ...   \n",
              "19433           19989           0          714       2017-04-27           1.0   \n",
              "19436           19992          11         1374       2017-09-14           0.0   \n",
              "19437           19993          13            5       2017-04-28           0.0   \n",
              "19438           19994          77         2618       2017-12-23           0.0   \n",
              "19443           19999           6         2764       2017-07-03           0.0   \n",
              "\n",
              "      order_status           brand product_line product_class product_size  \\\n",
              "4         Approved  Giant Bicycles     Standard        medium        large   \n",
              "7         Approved        WeareA2B     Standard        medium       medium   \n",
              "10        Approved   Trek Bicycles     Mountain           low       medium   \n",
              "16        Approved  Norco Bicycles     Standard        medium       medium   \n",
              "24        Approved        WeareA2B      Touring        medium        large   \n",
              "...            ...             ...          ...           ...          ...   \n",
              "19433     Approved  Norco Bicycles     Standard           low       medium   \n",
              "19436     Approved  Giant Bicycles     Standard          high       medium   \n",
              "19437     Approved           Solex     Standard        medium       medium   \n",
              "19438     Approved  Norco Bicycles         Road        medium        large   \n",
              "19443     Approved      OHM Cycles     Standard          high       medium   \n",
              "\n",
              "       ...  DOB  job_title  job_industry_category wealth_segment  \\\n",
              "4      ...  NaT        NaN                    NaN            NaN   \n",
              "7      ...  NaT        NaN                    NaN            NaN   \n",
              "10     ...  NaT        NaN                    NaN            NaN   \n",
              "16     ...  NaT        NaN                    NaN            NaN   \n",
              "24     ...  NaT        NaN                    NaN            NaN   \n",
              "...    ...  ...        ...                    ...            ...   \n",
              "19433  ...  NaT        NaN                    NaN            NaN   \n",
              "19436  ...  NaT        NaN                    NaN            NaN   \n",
              "19437  ...  NaT        NaN                    NaN            NaN   \n",
              "19438  ...  NaT        NaN                    NaN            NaN   \n",
              "19443  ...  NaT        NaN                    NaN            NaN   \n",
              "\n",
              "      deceased_indicator default  owns_car tenure age age_group  \n",
              "4                    NaN     NaN       NaN    NaN NaN       NaN  \n",
              "7                    NaN     NaN       NaN    NaN NaN       NaN  \n",
              "10                   NaN     NaN       NaN    NaN NaN       NaN  \n",
              "16                   NaN     NaN       NaN    NaN NaN       NaN  \n",
              "24                   NaN     NaN       NaN    NaN NaN       NaN  \n",
              "...                  ...     ...       ...    ...  ..       ...  \n",
              "19433                NaN     NaN       NaN    NaN NaN       NaN  \n",
              "19436                NaN     NaN       NaN    NaN NaN       NaN  \n",
              "19437                NaN     NaN       NaN    NaN NaN       NaN  \n",
              "19438                NaN     NaN       NaN    NaN NaN       NaN  \n",
              "19443                NaN     NaN       NaN    NaN NaN       NaN  \n",
              "\n",
              "[6463 rows x 27 columns]"
            ],
            "text/html": [
              "\n",
              "  <div id=\"df-9ecde43c-4df5-4d58-b5e5-7ce016df05c4\">\n",
              "    <div class=\"colab-df-container\">\n",
              "      <div>\n",
              "<style scoped>\n",
              "    .dataframe tbody tr th:only-of-type {\n",
              "        vertical-align: middle;\n",
              "    }\n",
              "\n",
              "    .dataframe tbody tr th {\n",
              "        vertical-align: top;\n",
              "    }\n",
              "\n",
              "    .dataframe thead th {\n",
              "        text-align: right;\n",
              "    }\n",
              "</style>\n",
              "<table border=\"1\" class=\"dataframe\">\n",
              "  <thead>\n",
              "    <tr style=\"text-align: right;\">\n",
              "      <th></th>\n",
              "      <th>transaction_id</th>\n",
              "      <th>product_id</th>\n",
              "      <th>customer_id</th>\n",
              "      <th>transaction_date</th>\n",
              "      <th>online_order</th>\n",
              "      <th>order_status</th>\n",
              "      <th>brand</th>\n",
              "      <th>product_line</th>\n",
              "      <th>product_class</th>\n",
              "      <th>product_size</th>\n",
              "      <th>...</th>\n",
              "      <th>DOB</th>\n",
              "      <th>job_title</th>\n",
              "      <th>job_industry_category</th>\n",
              "      <th>wealth_segment</th>\n",
              "      <th>deceased_indicator</th>\n",
              "      <th>default</th>\n",
              "      <th>owns_car</th>\n",
              "      <th>tenure</th>\n",
              "      <th>age</th>\n",
              "      <th>age_group</th>\n",
              "    </tr>\n",
              "  </thead>\n",
              "  <tbody>\n",
              "    <tr>\n",
              "      <th>4</th>\n",
              "      <td>5</td>\n",
              "      <td>78</td>\n",
              "      <td>787</td>\n",
              "      <td>2017-10-01</td>\n",
              "      <td>1.0</td>\n",
              "      <td>Approved</td>\n",
              "      <td>Giant Bicycles</td>\n",
              "      <td>Standard</td>\n",
              "      <td>medium</td>\n",
              "      <td>large</td>\n",
              "      <td>...</td>\n",
              "      <td>NaT</td>\n",
              "      <td>NaN</td>\n",
              "      <td>NaN</td>\n",
              "      <td>NaN</td>\n",
              "      <td>NaN</td>\n",
              "      <td>NaN</td>\n",
              "      <td>NaN</td>\n",
              "      <td>NaN</td>\n",
              "      <td>NaN</td>\n",
              "      <td>NaN</td>\n",
              "    </tr>\n",
              "    <tr>\n",
              "      <th>7</th>\n",
              "      <td>8</td>\n",
              "      <td>15</td>\n",
              "      <td>2459</td>\n",
              "      <td>2017-07-15</td>\n",
              "      <td>0.0</td>\n",
              "      <td>Approved</td>\n",
              "      <td>WeareA2B</td>\n",
              "      <td>Standard</td>\n",
              "      <td>medium</td>\n",
              "      <td>medium</td>\n",
              "      <td>...</td>\n",
              "      <td>NaT</td>\n",
              "      <td>NaN</td>\n",
              "      <td>NaN</td>\n",
              "      <td>NaN</td>\n",
              "      <td>NaN</td>\n",
              "      <td>NaN</td>\n",
              "      <td>NaN</td>\n",
              "      <td>NaN</td>\n",
              "      <td>NaN</td>\n",
              "      <td>NaN</td>\n",
              "    </tr>\n",
              "    <tr>\n",
              "      <th>10</th>\n",
              "      <td>11</td>\n",
              "      <td>5</td>\n",
              "      <td>1986</td>\n",
              "      <td>2017-01-17</td>\n",
              "      <td>0.0</td>\n",
              "      <td>Approved</td>\n",
              "      <td>Trek Bicycles</td>\n",
              "      <td>Mountain</td>\n",
              "      <td>low</td>\n",
              "      <td>medium</td>\n",
              "      <td>...</td>\n",
              "      <td>NaT</td>\n",
              "      <td>NaN</td>\n",
              "      <td>NaN</td>\n",
              "      <td>NaN</td>\n",
              "      <td>NaN</td>\n",
              "      <td>NaN</td>\n",
              "      <td>NaN</td>\n",
              "      <td>NaN</td>\n",
              "      <td>NaN</td>\n",
              "      <td>NaN</td>\n",
              "    </tr>\n",
              "    <tr>\n",
              "      <th>16</th>\n",
              "      <td>17</td>\n",
              "      <td>79</td>\n",
              "      <td>2426</td>\n",
              "      <td>2017-04-03</td>\n",
              "      <td>0.0</td>\n",
              "      <td>Approved</td>\n",
              "      <td>Norco Bicycles</td>\n",
              "      <td>Standard</td>\n",
              "      <td>medium</td>\n",
              "      <td>medium</td>\n",
              "      <td>...</td>\n",
              "      <td>NaT</td>\n",
              "      <td>NaN</td>\n",
              "      <td>NaN</td>\n",
              "      <td>NaN</td>\n",
              "      <td>NaN</td>\n",
              "      <td>NaN</td>\n",
              "      <td>NaN</td>\n",
              "      <td>NaN</td>\n",
              "      <td>NaN</td>\n",
              "      <td>NaN</td>\n",
              "    </tr>\n",
              "    <tr>\n",
              "      <th>24</th>\n",
              "      <td>25</td>\n",
              "      <td>89</td>\n",
              "      <td>2822</td>\n",
              "      <td>2017-06-11</td>\n",
              "      <td>0.0</td>\n",
              "      <td>Approved</td>\n",
              "      <td>WeareA2B</td>\n",
              "      <td>Touring</td>\n",
              "      <td>medium</td>\n",
              "      <td>large</td>\n",
              "      <td>...</td>\n",
              "      <td>NaT</td>\n",
              "      <td>NaN</td>\n",
              "      <td>NaN</td>\n",
              "      <td>NaN</td>\n",
              "      <td>NaN</td>\n",
              "      <td>NaN</td>\n",
              "      <td>NaN</td>\n",
              "      <td>NaN</td>\n",
              "      <td>NaN</td>\n",
              "      <td>NaN</td>\n",
              "    </tr>\n",
              "    <tr>\n",
              "      <th>...</th>\n",
              "      <td>...</td>\n",
              "      <td>...</td>\n",
              "      <td>...</td>\n",
              "      <td>...</td>\n",
              "      <td>...</td>\n",
              "      <td>...</td>\n",
              "      <td>...</td>\n",
              "      <td>...</td>\n",
              "      <td>...</td>\n",
              "      <td>...</td>\n",
              "      <td>...</td>\n",
              "      <td>...</td>\n",
              "      <td>...</td>\n",
              "      <td>...</td>\n",
              "      <td>...</td>\n",
              "      <td>...</td>\n",
              "      <td>...</td>\n",
              "      <td>...</td>\n",
              "      <td>...</td>\n",
              "      <td>...</td>\n",
              "      <td>...</td>\n",
              "    </tr>\n",
              "    <tr>\n",
              "      <th>19433</th>\n",
              "      <td>19989</td>\n",
              "      <td>0</td>\n",
              "      <td>714</td>\n",
              "      <td>2017-04-27</td>\n",
              "      <td>1.0</td>\n",
              "      <td>Approved</td>\n",
              "      <td>Norco Bicycles</td>\n",
              "      <td>Standard</td>\n",
              "      <td>low</td>\n",
              "      <td>medium</td>\n",
              "      <td>...</td>\n",
              "      <td>NaT</td>\n",
              "      <td>NaN</td>\n",
              "      <td>NaN</td>\n",
              "      <td>NaN</td>\n",
              "      <td>NaN</td>\n",
              "      <td>NaN</td>\n",
              "      <td>NaN</td>\n",
              "      <td>NaN</td>\n",
              "      <td>NaN</td>\n",
              "      <td>NaN</td>\n",
              "    </tr>\n",
              "    <tr>\n",
              "      <th>19436</th>\n",
              "      <td>19992</td>\n",
              "      <td>11</td>\n",
              "      <td>1374</td>\n",
              "      <td>2017-09-14</td>\n",
              "      <td>0.0</td>\n",
              "      <td>Approved</td>\n",
              "      <td>Giant Bicycles</td>\n",
              "      <td>Standard</td>\n",
              "      <td>high</td>\n",
              "      <td>medium</td>\n",
              "      <td>...</td>\n",
              "      <td>NaT</td>\n",
              "      <td>NaN</td>\n",
              "      <td>NaN</td>\n",
              "      <td>NaN</td>\n",
              "      <td>NaN</td>\n",
              "      <td>NaN</td>\n",
              "      <td>NaN</td>\n",
              "      <td>NaN</td>\n",
              "      <td>NaN</td>\n",
              "      <td>NaN</td>\n",
              "    </tr>\n",
              "    <tr>\n",
              "      <th>19437</th>\n",
              "      <td>19993</td>\n",
              "      <td>13</td>\n",
              "      <td>5</td>\n",
              "      <td>2017-04-28</td>\n",
              "      <td>0.0</td>\n",
              "      <td>Approved</td>\n",
              "      <td>Solex</td>\n",
              "      <td>Standard</td>\n",
              "      <td>medium</td>\n",
              "      <td>medium</td>\n",
              "      <td>...</td>\n",
              "      <td>NaT</td>\n",
              "      <td>NaN</td>\n",
              "      <td>NaN</td>\n",
              "      <td>NaN</td>\n",
              "      <td>NaN</td>\n",
              "      <td>NaN</td>\n",
              "      <td>NaN</td>\n",
              "      <td>NaN</td>\n",
              "      <td>NaN</td>\n",
              "      <td>NaN</td>\n",
              "    </tr>\n",
              "    <tr>\n",
              "      <th>19438</th>\n",
              "      <td>19994</td>\n",
              "      <td>77</td>\n",
              "      <td>2618</td>\n",
              "      <td>2017-12-23</td>\n",
              "      <td>0.0</td>\n",
              "      <td>Approved</td>\n",
              "      <td>Norco Bicycles</td>\n",
              "      <td>Road</td>\n",
              "      <td>medium</td>\n",
              "      <td>large</td>\n",
              "      <td>...</td>\n",
              "      <td>NaT</td>\n",
              "      <td>NaN</td>\n",
              "      <td>NaN</td>\n",
              "      <td>NaN</td>\n",
              "      <td>NaN</td>\n",
              "      <td>NaN</td>\n",
              "      <td>NaN</td>\n",
              "      <td>NaN</td>\n",
              "      <td>NaN</td>\n",
              "      <td>NaN</td>\n",
              "    </tr>\n",
              "    <tr>\n",
              "      <th>19443</th>\n",
              "      <td>19999</td>\n",
              "      <td>6</td>\n",
              "      <td>2764</td>\n",
              "      <td>2017-07-03</td>\n",
              "      <td>0.0</td>\n",
              "      <td>Approved</td>\n",
              "      <td>OHM Cycles</td>\n",
              "      <td>Standard</td>\n",
              "      <td>high</td>\n",
              "      <td>medium</td>\n",
              "      <td>...</td>\n",
              "      <td>NaT</td>\n",
              "      <td>NaN</td>\n",
              "      <td>NaN</td>\n",
              "      <td>NaN</td>\n",
              "      <td>NaN</td>\n",
              "      <td>NaN</td>\n",
              "      <td>NaN</td>\n",
              "      <td>NaN</td>\n",
              "      <td>NaN</td>\n",
              "      <td>NaN</td>\n",
              "    </tr>\n",
              "  </tbody>\n",
              "</table>\n",
              "<p>6463 rows × 27 columns</p>\n",
              "</div>\n",
              "      <button class=\"colab-df-convert\" onclick=\"convertToInteractive('df-9ecde43c-4df5-4d58-b5e5-7ce016df05c4')\"\n",
              "              title=\"Convert this dataframe to an interactive table.\"\n",
              "              style=\"display:none;\">\n",
              "        \n",
              "  <svg xmlns=\"http://www.w3.org/2000/svg\" height=\"24px\"viewBox=\"0 0 24 24\"\n",
              "       width=\"24px\">\n",
              "    <path d=\"M0 0h24v24H0V0z\" fill=\"none\"/>\n",
              "    <path d=\"M18.56 5.44l.94 2.06.94-2.06 2.06-.94-2.06-.94-.94-2.06-.94 2.06-2.06.94zm-11 1L8.5 8.5l.94-2.06 2.06-.94-2.06-.94L8.5 2.5l-.94 2.06-2.06.94zm10 10l.94 2.06.94-2.06 2.06-.94-2.06-.94-.94-2.06-.94 2.06-2.06.94z\"/><path d=\"M17.41 7.96l-1.37-1.37c-.4-.4-.92-.59-1.43-.59-.52 0-1.04.2-1.43.59L10.3 9.45l-7.72 7.72c-.78.78-.78 2.05 0 2.83L4 21.41c.39.39.9.59 1.41.59.51 0 1.02-.2 1.41-.59l7.78-7.78 2.81-2.81c.8-.78.8-2.07 0-2.86zM5.41 20L4 18.59l7.72-7.72 1.47 1.35L5.41 20z\"/>\n",
              "  </svg>\n",
              "      </button>\n",
              "      \n",
              "  <style>\n",
              "    .colab-df-container {\n",
              "      display:flex;\n",
              "      flex-wrap:wrap;\n",
              "      gap: 12px;\n",
              "    }\n",
              "\n",
              "    .colab-df-convert {\n",
              "      background-color: #E8F0FE;\n",
              "      border: none;\n",
              "      border-radius: 50%;\n",
              "      cursor: pointer;\n",
              "      display: none;\n",
              "      fill: #1967D2;\n",
              "      height: 32px;\n",
              "      padding: 0 0 0 0;\n",
              "      width: 32px;\n",
              "    }\n",
              "\n",
              "    .colab-df-convert:hover {\n",
              "      background-color: #E2EBFA;\n",
              "      box-shadow: 0px 1px 2px rgba(60, 64, 67, 0.3), 0px 1px 3px 1px rgba(60, 64, 67, 0.15);\n",
              "      fill: #174EA6;\n",
              "    }\n",
              "\n",
              "    [theme=dark] .colab-df-convert {\n",
              "      background-color: #3B4455;\n",
              "      fill: #D2E3FC;\n",
              "    }\n",
              "\n",
              "    [theme=dark] .colab-df-convert:hover {\n",
              "      background-color: #434B5C;\n",
              "      box-shadow: 0px 1px 3px 1px rgba(0, 0, 0, 0.15);\n",
              "      filter: drop-shadow(0px 1px 2px rgba(0, 0, 0, 0.3));\n",
              "      fill: #FFFFFF;\n",
              "    }\n",
              "  </style>\n",
              "\n",
              "      <script>\n",
              "        const buttonEl =\n",
              "          document.querySelector('#df-9ecde43c-4df5-4d58-b5e5-7ce016df05c4 button.colab-df-convert');\n",
              "        buttonEl.style.display =\n",
              "          google.colab.kernel.accessAllowed ? 'block' : 'none';\n",
              "\n",
              "        async function convertToInteractive(key) {\n",
              "          const element = document.querySelector('#df-9ecde43c-4df5-4d58-b5e5-7ce016df05c4');\n",
              "          const dataTable =\n",
              "            await google.colab.kernel.invokeFunction('convertToInteractive',\n",
              "                                                     [key], {});\n",
              "          if (!dataTable) return;\n",
              "\n",
              "          const docLinkHtml = 'Like what you see? Visit the ' +\n",
              "            '<a target=\"_blank\" href=https://colab.research.google.com/notebooks/data_table.ipynb>data table notebook</a>'\n",
              "            + ' to learn more about interactive tables.';\n",
              "          element.innerHTML = '';\n",
              "          dataTable['output_type'] = 'display_data';\n",
              "          await google.colab.output.renderOutput(dataTable, element);\n",
              "          const docLink = document.createElement('div');\n",
              "          docLink.innerHTML = docLinkHtml;\n",
              "          element.appendChild(docLink);\n",
              "        }\n",
              "      </script>\n",
              "    </div>\n",
              "  </div>\n",
              "  "
            ]
          },
          "metadata": {},
          "execution_count": 74
        }
      ],
      "source": [
        "#join bảng transactions vs demographic (đều đã dropna) và in ra những giao dịch thiếu thông tin demographic (last name hoặc first name)\n",
        "df = ta_dropna_all.merge(demo_dropna_all, on='customer_id', how='left')\n",
        "df['last_name'].isnull().sum()\n",
        "df[df['first_name'].isnull()]"
      ]
    },
    {
      "cell_type": "code",
      "execution_count": null,
      "metadata": {
        "id": "HlPzQgzdeU8x"
      },
      "outputs": [],
      "source": []
    },
    {
      "cell_type": "markdown",
      "metadata": {
        "id": "xBQeZXXPeU8x"
      },
      "source": [
        "# 3. Data Aggregation (after dropping null values)"
      ]
    },
    {
      "cell_type": "code",
      "execution_count": null,
      "metadata": {
        "scrolled": true,
        "id": "UPIcm_jGeU8x",
        "colab": {
          "base_uri": "https://localhost:8080/"
        },
        "outputId": "233ea5e7-0ed1-4e7e-b056-e23bacb7dc95"
      },
      "outputs": [
        {
          "output_type": "stream",
          "name": "stdout",
          "text": [
            "tổng khách hàng:  3492\n"
          ]
        }
      ],
      "source": [
        "# tính tổng khách hàng có phát sinh giao dịch bằng hàm nunique\n",
        "print(\"tổng khách hàng: \", df['customer_id'].nunique())"
      ]
    },
    {
      "cell_type": "code",
      "execution_count": null,
      "metadata": {
        "scrolled": true,
        "id": "z4m-8m8oeU8x",
        "colab": {
          "base_uri": "https://localhost:8080/"
        },
        "outputId": "ef6d170d-76b2-4b2e-f10f-7796cd509030"
      },
      "outputs": [
        {
          "output_type": "stream",
          "name": "stdout",
          "text": [
            "            customer_id\n",
            "year_month             \n",
            "2017-01            1321\n",
            "2017-02            1258\n",
            "2017-03            1277\n",
            "2017-04            1284\n",
            "2017-05            1281\n",
            "2017-06            1238\n",
            "2017-07            1327\n",
            "2017-08            1346\n",
            "2017-09            1240\n",
            "2017-10            1378\n",
            "2017-11            1281\n",
            "2017-12            1294\n"
          ]
        }
      ],
      "source": [
        "# Tính số khách hàng mỗi tháng\n",
        "# hint 1: tạo column year_month bằng hàm dt.strftime\n",
        "# hint 2: group by year_month và nunique\n",
        "import datetime as dt\n",
        "df['year_month'] = df['transaction_date'].dt.strftime('%Y-%m')\n",
        "customer_monthly = df.groupby('year_month').agg({'customer_id':'nunique'})\n",
        "print(customer_monthly)\n"
      ]
    },
    {
      "cell_type": "code",
      "execution_count": null,
      "metadata": {
        "scrolled": true,
        "id": "sBXabATHeU8x",
        "colab": {
          "base_uri": "https://localhost:8080/"
        },
        "outputId": "a0f1bff5-bf8b-4094-85f9-cf8caec1a03f"
      },
      "outputs": [
        {
          "output_type": "stream",
          "name": "stdout",
          "text": [
            "   year_month   gross_margin\n",
            "0     2017-01  915151.359988\n",
            "1     2017-02  852514.230000\n",
            "2     2017-03  865312.550000\n",
            "3     2017-04  888856.890000\n",
            "4     2017-05  904003.210000\n",
            "5     2017-06  841815.260000\n",
            "6     2017-07  919677.790000\n",
            "7     2017-08  951376.270000\n",
            "8     2017-09  843736.130000\n",
            "9     2017-10  968986.414984\n",
            "10    2017-11  900817.570000\n",
            "11    2017-12  876568.660000\n"
          ]
        }
      ],
      "source": [
        "# Tính gross margin của mỗi tháng. gross_margin = list_price - standard_cost\n",
        "# hint 1: tạo column gross_margin\n",
        "# hint 2: group by year_month và sử dụng hàm agg\n",
        "df['gross_margin'] = df['list_price'] - df['standard_cost']\n",
        "monthly_gross_margin = df.groupby('year_month').agg({'gross_margin':'sum'}).reset_index()\n",
        "print(monthly_gross_margin)"
      ]
    },
    {
      "cell_type": "code",
      "execution_count": null,
      "metadata": {
        "scrolled": false,
        "id": "WEYbMnOTeU8y",
        "colab": {
          "base_uri": "https://localhost:8080/"
        },
        "outputId": "7b2d64ee-c6d5-43c7-854e-92abdee89c85"
      },
      "outputs": [
        {
          "output_type": "stream",
          "name": "stdout",
          "text": [
            "                           transaction_id   list_price\n",
            "online_order order_status                             \n",
            "0.0          Approved                9631  10666230.05\n",
            "             Cancelled                 75     86837.88\n",
            "1.0          Approved                9642  10670179.59\n",
            "             Cancelled                 97    108924.20\n"
          ]
        }
      ],
      "source": [
        "# Tính số lượng order và doanh thu group by online_order và order_status \n",
        "# hint 1: group by online_order, order_status và sử dụng hàm agg\n",
        "total_order_revenue= df.groupby(['online_order', 'order_status']).agg({'transaction_id':'count', 'list_price':'sum'})\n",
        "print(total_order_revenue)\n"
      ]
    },
    {
      "cell_type": "markdown",
      "metadata": {
        "id": "-9mzMsFXeU8y"
      },
      "source": [
        "# 4. Data Visualization"
      ]
    },
    {
      "cell_type": "code",
      "execution_count": null,
      "metadata": {
        "id": "e2dB82J5eU8y",
        "colab": {
          "base_uri": "https://localhost:8080/",
          "height": 515
        },
        "outputId": "e14d0907-b944-446b-f40e-825f6c26c2fa"
      },
      "outputs": [
        {
          "output_type": "stream",
          "name": "stdout",
          "text": [
            "AxesSubplot(0.125,0.125;0.775x0.755)\n"
          ]
        },
        {
          "output_type": "error",
          "ename": "TypeError",
          "evalue": "ignored",
          "traceback": [
            "\u001b[0;31m---------------------------------------------------------------------------\u001b[0m",
            "\u001b[0;31mTypeError\u001b[0m                                 Traceback (most recent call last)",
            "\u001b[0;32m<ipython-input-91-1351c3fa38bd>\u001b[0m in \u001b[0;36m<module>\u001b[0;34m\u001b[0m\n\u001b[1;32m     10\u001b[0m \u001b[0;34m\u001b[0m\u001b[0m\n\u001b[1;32m     11\u001b[0m \u001b[0mpivot1\u001b[0m \u001b[0;34m=\u001b[0m \u001b[0mdf\u001b[0m\u001b[0;34m.\u001b[0m\u001b[0mpivot_table\u001b[0m\u001b[0;34m(\u001b[0m\u001b[0mindex\u001b[0m\u001b[0;34m=\u001b[0m\u001b[0;34m[\u001b[0m\u001b[0;34m'year_month'\u001b[0m\u001b[0;34m]\u001b[0m\u001b[0;34m,\u001b[0m \u001b[0mvalues\u001b[0m\u001b[0;34m=\u001b[0m\u001b[0;34m[\u001b[0m\u001b[0;34m'gross_margin'\u001b[0m\u001b[0;34m]\u001b[0m\u001b[0;34m,\u001b[0m \u001b[0maggfunc\u001b[0m\u001b[0;34m=\u001b[0m\u001b[0;34m'sum'\u001b[0m\u001b[0;34m)\u001b[0m\u001b[0;34m.\u001b[0m\u001b[0mreset_index\u001b[0m\u001b[0;34m(\u001b[0m\u001b[0;34m)\u001b[0m\u001b[0;34m\u001b[0m\u001b[0;34m\u001b[0m\u001b[0m\n\u001b[0;32m---> 12\u001b[0;31m \u001b[0mdf_chart1\u001b[0m\u001b[0;34m=\u001b[0m \u001b[0mdf\u001b[0m\u001b[0;34m[\u001b[0m\u001b[0;34m[\u001b[0m\u001b[0;34m'year_month'\u001b[0m\u001b[0;34m,\u001b[0m \u001b[0;34m'gross_margin'\u001b[0m\u001b[0;34m]\u001b[0m\u001b[0;34m]\u001b[0m\u001b[0;34m.\u001b[0m\u001b[0mgroupby\u001b[0m\u001b[0;34m(\u001b[0m\u001b[0mdf\u001b[0m\u001b[0;34m[\u001b[0m\u001b[0;34m'year_month'\u001b[0m\u001b[0;34m]\u001b[0m\u001b[0;34m,\u001b[0m \u001b[0magg\u001b[0m\u001b[0;34m=\u001b[0m\u001b[0;34m{\u001b[0m\u001b[0;34m'gross_margin'\u001b[0m\u001b[0;34m:\u001b[0m\u001b[0;34m'sum'\u001b[0m\u001b[0;34m}\u001b[0m\u001b[0;34m)\u001b[0m\u001b[0;34m\u001b[0m\u001b[0;34m\u001b[0m\u001b[0m\n\u001b[0m\u001b[1;32m     13\u001b[0m \u001b[0;34m\u001b[0m\u001b[0m\n\u001b[1;32m     14\u001b[0m \u001b[0;31m#monthly_gross_margin = df.groupby('year_month').agg({'gross_margin':'sum'})\u001b[0m\u001b[0;34m\u001b[0m\u001b[0;34m\u001b[0m\u001b[0;34m\u001b[0m\u001b[0m\n",
            "\u001b[0;31mTypeError\u001b[0m: groupby() got an unexpected keyword argument 'agg'"
          ]
        },
        {
          "output_type": "display_data",
          "data": {
            "text/plain": [
              "<Figure size 432x288 with 1 Axes>"
            ],
            "image/png": "[encoded data removed]"
          },
          "metadata": {
            "needs_background": "light"
          }
        }
      ],
      "source": [
        "# Sử dụng seaborn và vẽ ra 5 chart khác nhau (column, line, box,...) với đầy đủ tên chart, tên các trục và chú thích.\n",
        "# Comment insight/message muốn truyền tải thông qua từng chart\n",
        "import matplotlib.pyplot as plt\n",
        "import seaborn as sns\n",
        "margin_by_product_class = sns.barplot(x='gross_margin', y='product_class', data = df, ci=None)\n",
        "print(margin_by_product_class)\n",
        "\n",
        "#category_order=['2017-01','2017-02', '2017-03', '2017-04', '2017-05', '2017-06', '2017-07', '2017-08', '2017-09', '2017-10', '2017-11', '2017-12']\n",
        "#tai sao k su dung dc relplot vs order=category_order?\n",
        "\n",
        "#pivot1 = df.pivot_table(index=['year_month'], values=['gross_margin'], aggfunc='sum').reset_index()\n",
        "#df_chart1= df[['year_month', 'gross_margin']].groupby(df['year_month'], agg={'gross_margin':'sum'})\n",
        "\n",
        "#monthly_gross_margin = df.groupby('year_month').agg({'gross_margin':'sum'})\n",
        "#print(monthly_gross_margin)"
      ]
    },
    {
      "cell_type": "code",
      "source": [
        "# pivot1 = df.pivot_table(index=['year_month'], values=['gross_margin'], aggfunc='sum').reset_index()\n",
        "sns.set(rc={'figure.figsize':(11.7,8.27)})\n",
        "# df_chart1 = df.groupby(df['year_month'])['gross_margin'].sum().reset_index()\n",
        "# monthly_revenue = sns.lineplot(x='year_month', y='gross_margin', data = df_chart1, ci=None)\n",
        "\n",
        "pivot1 = df.pivot_table(index=['year_month'], values=['gross_margin'], aggfunc='sum').reset_index()\n",
        "monthly_revenue = sns.lineplot(x='year_month', y='gross_margin', data = pivot1, ci=None)\n"
      ],
      "metadata": {
        "colab": {
          "base_uri": "https://localhost:8080/",
          "height": 517
        },
        "id": "UGuwMYeZoKjG",
        "outputId": "680af07d-3404-4533-827f-daa3e260809f"
      },
      "execution_count": null,
      "outputs": [
        {
          "output_type": "display_data",
          "data": {
            "text/plain": [
              "<Figure size 842.4x595.44 with 1 Axes>"
            ],
            "image/png": "[encoded data removed]"
          },
          "metadata": {}
        }
      ]
    },
    {
      "cell_type": "code",
      "execution_count": null,
      "metadata": {
        "id": "gAVvkP-BeU8y",
        "colab": {
          "base_uri": "https://localhost:8080/",
          "height": 297
        },
        "outputId": "4ed8e897-1b11-4ad8-f6d1-0eb880a935e6"
      },
      "outputs": [
        {
          "output_type": "stream",
          "name": "stdout",
          "text": [
            "AxesSubplot(0.125,0.125;0.775x0.755)\n"
          ]
        },
        {
          "output_type": "display_data",
          "data": {
            "text/plain": [
              "<Figure size 432x288 with 1 Axes>"
            ],
            "image/png": "[encoded data removed]"
          },
          "metadata": {
            "needs_background": "light"
          }
        }
      ],
      "source": [
        "monthly_revenue = sns.lineplot(x='year_month', y='list_price', data = df, ci=None)\n",
        "print(monthly_revenue)\n",
        "\n"
      ]
    },
    {
      "cell_type": "code",
      "source": [
        "g=sns.catplot(x=\"year_month\", y=\"gross_margin\", data = monthly_gross_margin, kind=\"point\", order=['2017-01','2017-02', '2017-03', '2017-04', '2017-05', '2017-06', '2017-07', '2017-08', '2017-09', '2017-10', '2017-11', '2017-12'], ci=None)\n",
        "g.fig.suptitle(\"Gross Margin by Month\", y=1.03, fontsize=18)\n",
        "g.set(xlabel=\"Month\", ylabel=\"Gross Margin\")\n",
        "plt.xticks(rotation=30)\n",
        "plt.show()\n"
      ],
      "metadata": {
        "colab": {
          "base_uri": "https://localhost:8080/",
          "height": 410
        },
        "id": "eYRLNX5aPyn7",
        "outputId": "97101d41-959d-43f1-dcfc-aeebfe79777c"
      },
      "execution_count": null,
      "outputs": [
        {
          "output_type": "display_data",
          "data": {
            "text/plain": [
              "<Figure size 360x360 with 1 Axes>"
            ],
            "image/png": "[encoded data removed]"
          },
          "metadata": {
            "needs_background": "light"
          }
        }
      ]
    },
    {
      "cell_type": "code",
      "source": [
        "a=sns.catplot(x='product_class', y='gross_margin', data = df, kind=\"point\", hue=\"product_line\", order=[\"low\",\"medium\",\"high\"], ci=None)\n",
        "a.fig.suptitle(\"Revenue of Product Lines by Product Class\", y=1.03, fontsize=18)\n",
        "a.set(xlabel=\"Product Class\", ylabel=\"Gross Margin\")\n",
        "plt.show()"
      ],
      "metadata": {
        "colab": {
          "base_uri": "https://localhost:8080/",
          "height": 390
        },
        "id": "KAFBF-byBVtE",
        "outputId": "e36ef963-1022-4374-b94f-9a788a42762a"
      },
      "execution_count": null,
      "outputs": [
        {
          "output_type": "display_data",
          "data": {
            "text/plain": [
              "<Figure size 442.625x360 with 1 Axes>"
            ],
            "image/png": "[encoded data removed]"
          },
          "metadata": {
            "needs_background": "light"
          }
        }
      ]
    },
    {
      "cell_type": "code",
      "source": [
        "a=sns.relplot(x='product_line', y='gross_margin', data = df, kind=\"scatter\", hue=\"product_size\", col=\"product_class\", col_order=[\"low\",\"medium\",\"high\"], ci=None)\n",
        "a.fig.suptitle(\"Revenue of Product Lines by Product Class\", y=1.03, fontsize=18)\n",
        "a.set(xlabel=\"Product Class\", ylabel=\"Gross Margin\")\n",
        "plt.show()\n"
      ],
      "metadata": {
        "colab": {
          "base_uri": "https://localhost:8080/",
          "height": 379
        },
        "id": "2cfJQKRcBjEd",
        "outputId": "7dd23310-5238-4ef8-e35d-f9fc44cb94d1"
      },
      "execution_count": null,
      "outputs": [
        {
          "output_type": "display_data",
          "data": {
            "text/plain": [
              "<Figure size 1157x360 with 3 Axes>"
            ],
            "image/png": "[encoded data removed]"
          },
          "metadata": {
            "needs_background": "light"
          }
        }
      ]
    }
  ],
  "metadata": {
    "kernelspec": {
      "display_name": "Python 3 (ipykernel)",
      "language": "python",
      "name": "python3"
    },
    "language_info": {
      "codemirror_mode": {
        "name": "ipython",
        "version": 3
      },
      "file_extension": ".py",
      "mimetype": "text/x-python",
      "name": "python",
      "nbconvert_exporter": "python",
      "pygments_lexer": "ipython3",
      "version": "3.9.12"
    },
    "colab": {
      "provenance": []
    }
  },
  "nbformat": 4,
  "nbformat_minor": 0
}